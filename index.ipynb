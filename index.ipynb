{
 "cells": [
  {
   "cell_type": "markdown",
   "metadata": {},
   "source": [
    "# dsc-etl-cumulative-lab-part-b-dataworld-SQL\n",
    "\n",
    "# TODOs\n",
    "- Solution query is in #__Solution__ cell at bottom; move to appropriate place in the repo\n",
    "- Copy over `Business Understanding` and `Data Understanding` from Part D (Tableau) where the project and data is laid out\n",
    "- Alter / write additional `Business Understanding` and `Data Understanding` as needed\n",
    "\n",
    "## Introduction\n",
    "You've completed the setup portion for `data.world` in Part A of the ETL lab. Now the fun begins! We're going to write a SQL query to pull a specific set of data from two tables and join them.  \n",
    "\n",
    "You'll get practice using SQL to pull specific data from a larger database, manipulating that data, and joining it to additional data from another table.\n",
    "\n",
    "The steps of this lab will prepare you for doing the project at the end of the Phase, so you are *highly* encouraged to complete it!"
   ]
  },
  {
   "cell_type": "markdown",
   "metadata": {},
   "source": [
    "## Objectives\n",
    "You will be able to write an sql query in `data.world` to extract data from several hosted datasets\n",
    "\n",
    "Figuring out what variables to use in the query will incorporate the following skills:\n",
    "- reading documentation of a government-provided dataset\n",
    "\n",
    "\n",
    "The itself query will incorporate the following skills:\n",
    "- aliasing\n",
    "- sub-querying\n",
    "- transforming variables with arithmetic\n",
    "- joining"
   ]
  },
  {
   "cell_type": "markdown",
   "metadata": {},
   "source": [
    "## Your Task:\n",
    "\n",
    "### Business Understanding\n",
    "\n",
    "### Data Understanding"
   ]
  },
  {
   "cell_type": "markdown",
   "metadata": {},
   "source": [
    "### Requirements\n",
    "\n",
    "#### 1. `American Community Survey` documentation research\n",
    "\n",
    "Look within the `Health Insurance` and `Poverty` documentation of the American Community Survey for 2011-2015, which you set up in your project at `data.world` in Part A of this lab.  Find specific variables counting people who have health insurance and people below the poverty line for each Zip Code Tabulation Area, or `zcta`.\n",
    "\n",
    "\n",
    "#### 2. Writing a SQL query\n",
    "\n",
    "Craft an SQL query using the variables you found above, which will add some of the variables together in specific ways to create data for each `zcta`. "
   ]
  },
  {
   "cell_type": "markdown",
   "metadata": {},
   "source": [
    "## 1. `American Community Survey` documentation research\n",
    ">Look within the `Health Insurance` and `Poverty` documentation of the American Community Survey for 2011-2015, which you set up in your project at `data.world` in Part A of this lab.  Find specific variables counting people who have health insurance and people below the poverty line for each Zip Code Tabulation Area, or `zcta`."
   ]
  },
  {
   "cell_type": "markdown",
   "metadata": {},
   "source": [
    "## 2. Write an SQL query\n",
    "\n",
    ">Craft an SQL query using the variables you found above, which will add some of the variables together in specific ways to create data for each `zcta`. "
   ]
  },
  {
   "cell_type": "markdown",
   "metadata": {},
   "source": [
    "## Final Checks"
   ]
  },
  {
   "cell_type": "markdown",
   "metadata": {},
   "source": [
    "## Summary"
   ]
  },
  {
   "cell_type": "code",
   "execution_count": null,
   "metadata": {},
   "outputs": [],
   "source": [
    "#__SOLUTION__\n",
    "\n",
    "#Final Query in `data.world`\n",
    "\n",
    "\n",
    "with ins as(\n",
    "    SELECT  zcta,  \n",
    "        B27001_001 as health_ins_total,\n",
    "        B27001_002 as health_ins_total_male,\n",
    "        B27001_004 + B27001_007 + B27001_010 + B27001_013 + \n",
    "            B27001_016 + B27001_019 + B27001_022 + B27001_025 + \n",
    "            B27001_028 as male_ins,\n",
    "        B27001_005 + B27001_008 + B27001_011 + B27001_014 + \n",
    "            B27001_017 + B27001_020 + B27001_023 + B27001_026 + \n",
    "            B27001_029\n",
    "            as male_unins,\n",
    "        B27001_030 as health_ins_total_female,\n",
    "        B27001_032 + B27001_035 + B27001_038 + B27001_041 + \n",
    "            B27001_044 + B27001_047 + B27001_050 + B27001_053 + \n",
    "            B27001_056 as female_ins,\n",
    "        B27001_033 + B27001_036 + B27001_039 + B27001_042 + \n",
    "            B27001_045 + B27001_048 + B27001_051 + B27001_054 + \n",
    "            B27001_057 as female_unins\n",
    "    FROM `uscensusbureau`.`acs-2015-5-e-healthinsurance`.`USA_ZCTA`\n",
    ")\n",
    "select  ins.zcta,\n",
    "        ins.male_ins+ins.female_ins+ins.male_unins+ins.female_unins as total_pop,\n",
    "        ins.male_ins+ins.female_ins as total_ins,\n",
    "        ins.male_unins+ins.female_unins as total_unins,\n",
    "        poverty.B17001_003 as native_poverty,\n",
    "        poverty.B17025_010 as native_non_poverty,\n",
    "        poverty.B17001_006 as foreign_born_poverty,\n",
    "        poverty.B17025_013 as foreign_born_non_poverty\n",
    "\n",
    "FROM ins \n",
    "\n",
    "INNER JOIN `uscensusbureau`.`acs-2015-5-e-poverty`.`USA_ZCTA` as poverty\n",
    "    on poverty.zcta = ins.zcta"
   ]
  }
 ],
 "metadata": {
  "kernelspec": {
   "display_name": "Python 3",
   "language": "python",
   "name": "python3"
  },
  "language_info": {
   "codemirror_mode": {
    "name": "ipython",
    "version": 3
   },
   "file_extension": ".py",
   "mimetype": "text/x-python",
   "name": "python",
   "nbconvert_exporter": "python",
   "pygments_lexer": "ipython3",
   "version": "3.7.4"
  }
 },
 "nbformat": 4,
 "nbformat_minor": 4
}
